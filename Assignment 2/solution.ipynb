{
 "cells": [
  {
   "cell_type": "markdown",
   "metadata": {},
   "source": [
    "# Assignment 2\n",
    "### Predict stock market price for TESLA\n"
   ]
  },
  {
   "cell_type": "markdown",
   "metadata": {},
   "source": [
    "# Chosing an algorithm\n",
    "\n",
    "Document your findings in a file (3-5 lines) on why you chose this algorithm."
   ]
  },
  {
   "cell_type": "markdown",
   "metadata": {},
   "source": [
    "# Imports"
   ]
  },
  {
   "cell_type": "code",
   "execution_count": 3079,
   "metadata": {},
   "outputs": [],
   "source": [
    "%matplotlib inline\n",
    "import pandas as pd\n",
    "import numpy as np\n",
    "import matplotlib.pyplot as plt\n",
    "import matplotlib.dates as mdates\n",
    "from sklearn.ensemble import GradientBoostingRegressor\n",
    "from sklearn.metrics import mean_squared_error\n",
    "from sklearn.inspection import permutation_importance\n",
    "from sklearn.model_selection import train_test_split\n",
    "from sklearn.model_selection import RandomizedSearchCV, GridSearchCV"
   ]
  },
  {
   "cell_type": "markdown",
   "metadata": {},
   "source": [
    "# Reading the data"
   ]
  },
  {
   "cell_type": "code",
   "execution_count": 3080,
   "metadata": {},
   "outputs": [
    {
     "name": "stdout",
     "output_type": "stream",
     "text": [
      "<class 'pandas.core.frame.DataFrame'>\n",
      "RangeIndex: 3357 entries, 0 to 3356\n",
      "Data columns (total 7 columns):\n",
      " #   Column     Non-Null Count  Dtype  \n",
      "---  ------     --------------  -----  \n",
      " 0   Date       3357 non-null   object \n",
      " 1   Open       3357 non-null   float64\n",
      " 2   High       3357 non-null   float64\n",
      " 3   Low        3357 non-null   float64\n",
      " 4   Close      3357 non-null   float64\n",
      " 5   Adj Close  3357 non-null   float64\n",
      " 6   Volume     3357 non-null   int64  \n",
      "dtypes: float64(5), int64(1), object(1)\n",
      "memory usage: 183.7+ KB\n"
     ]
    }
   ],
   "source": [
    "# We read the data from the csv file\n",
    "data = pd.read_csv('data/TESLA.csv')\n",
    "\n",
    "# We call info() to check if there are any null values or object types\n",
    "data.info()"
   ]
  },
  {
   "cell_type": "code",
   "execution_count": 3081,
   "metadata": {},
   "outputs": [],
   "source": [
    "# We transform the Date column to datetime type\n",
    "data['Date'] = pd.to_datetime(data['Date'])"
   ]
  },
  {
   "cell_type": "code",
   "execution_count": 3082,
   "metadata": {},
   "outputs": [
    {
     "data": {
      "text/html": [
       "<div>\n",
       "<style scoped>\n",
       "    .dataframe tbody tr th:only-of-type {\n",
       "        vertical-align: middle;\n",
       "    }\n",
       "\n",
       "    .dataframe tbody tr th {\n",
       "        vertical-align: top;\n",
       "    }\n",
       "\n",
       "    .dataframe thead th {\n",
       "        text-align: right;\n",
       "    }\n",
       "</style>\n",
       "<table border=\"1\" class=\"dataframe\">\n",
       "  <thead>\n",
       "    <tr style=\"text-align: right;\">\n",
       "      <th></th>\n",
       "      <th>Date</th>\n",
       "      <th>Open</th>\n",
       "      <th>High</th>\n",
       "      <th>Low</th>\n",
       "      <th>Close</th>\n",
       "      <th>Adj Close</th>\n",
       "      <th>Volume</th>\n",
       "    </tr>\n",
       "  </thead>\n",
       "  <tbody>\n",
       "    <tr>\n",
       "      <th>count</th>\n",
       "      <td>3357</td>\n",
       "      <td>3357.000000</td>\n",
       "      <td>3357.000000</td>\n",
       "      <td>3357.000000</td>\n",
       "      <td>3357.000000</td>\n",
       "      <td>3357.000000</td>\n",
       "      <td>3.357000e+03</td>\n",
       "    </tr>\n",
       "    <tr>\n",
       "      <th>mean</th>\n",
       "      <td>2017-02-26 05:51:18.820375296</td>\n",
       "      <td>68.372233</td>\n",
       "      <td>69.892698</td>\n",
       "      <td>66.736911</td>\n",
       "      <td>68.350852</td>\n",
       "      <td>68.350852</td>\n",
       "      <td>9.650271e+07</td>\n",
       "    </tr>\n",
       "    <tr>\n",
       "      <th>min</th>\n",
       "      <td>2010-06-29 00:00:00</td>\n",
       "      <td>1.076000</td>\n",
       "      <td>1.108667</td>\n",
       "      <td>0.998667</td>\n",
       "      <td>1.053333</td>\n",
       "      <td>1.053333</td>\n",
       "      <td>1.777500e+06</td>\n",
       "    </tr>\n",
       "    <tr>\n",
       "      <th>25%</th>\n",
       "      <td>2013-10-28 00:00:00</td>\n",
       "      <td>10.166667</td>\n",
       "      <td>10.498667</td>\n",
       "      <td>9.917333</td>\n",
       "      <td>10.162667</td>\n",
       "      <td>10.162667</td>\n",
       "      <td>4.549350e+07</td>\n",
       "    </tr>\n",
       "    <tr>\n",
       "      <th>50%</th>\n",
       "      <td>2017-02-28 00:00:00</td>\n",
       "      <td>16.803333</td>\n",
       "      <td>17.049334</td>\n",
       "      <td>16.566668</td>\n",
       "      <td>16.809334</td>\n",
       "      <td>16.809334</td>\n",
       "      <td>8.041650e+07</td>\n",
       "    </tr>\n",
       "    <tr>\n",
       "      <th>75%</th>\n",
       "      <td>2020-06-29 00:00:00</td>\n",
       "      <td>67.456665</td>\n",
       "      <td>68.498665</td>\n",
       "      <td>66.297997</td>\n",
       "      <td>68.336670</td>\n",
       "      <td>68.336670</td>\n",
       "      <td>1.230810e+08</td>\n",
       "    </tr>\n",
       "    <tr>\n",
       "      <th>max</th>\n",
       "      <td>2023-10-27 00:00:00</td>\n",
       "      <td>411.470001</td>\n",
       "      <td>414.496674</td>\n",
       "      <td>405.666656</td>\n",
       "      <td>409.970001</td>\n",
       "      <td>409.970001</td>\n",
       "      <td>9.140820e+08</td>\n",
       "    </tr>\n",
       "    <tr>\n",
       "      <th>std</th>\n",
       "      <td>NaN</td>\n",
       "      <td>100.435123</td>\n",
       "      <td>102.699392</td>\n",
       "      <td>97.945596</td>\n",
       "      <td>100.352800</td>\n",
       "      <td>100.352800</td>\n",
       "      <td>8.048337e+07</td>\n",
       "    </tr>\n",
       "  </tbody>\n",
       "</table>\n",
       "</div>"
      ],
      "text/plain": [
       "                                Date         Open         High          Low  \\\n",
       "count                           3357  3357.000000  3357.000000  3357.000000   \n",
       "mean   2017-02-26 05:51:18.820375296    68.372233    69.892698    66.736911   \n",
       "min              2010-06-29 00:00:00     1.076000     1.108667     0.998667   \n",
       "25%              2013-10-28 00:00:00    10.166667    10.498667     9.917333   \n",
       "50%              2017-02-28 00:00:00    16.803333    17.049334    16.566668   \n",
       "75%              2020-06-29 00:00:00    67.456665    68.498665    66.297997   \n",
       "max              2023-10-27 00:00:00   411.470001   414.496674   405.666656   \n",
       "std                              NaN   100.435123   102.699392    97.945596   \n",
       "\n",
       "             Close    Adj Close        Volume  \n",
       "count  3357.000000  3357.000000  3.357000e+03  \n",
       "mean     68.350852    68.350852  9.650271e+07  \n",
       "min       1.053333     1.053333  1.777500e+06  \n",
       "25%      10.162667    10.162667  4.549350e+07  \n",
       "50%      16.809334    16.809334  8.041650e+07  \n",
       "75%      68.336670    68.336670  1.230810e+08  \n",
       "max     409.970001   409.970001  9.140820e+08  \n",
       "std     100.352800   100.352800  8.048337e+07  "
      ]
     },
     "execution_count": 3082,
     "metadata": {},
     "output_type": "execute_result"
    }
   ],
   "source": [
    "# Describe to check range of values\n",
    "data.describe()"
   ]
  },
  {
   "cell_type": "markdown",
   "metadata": {},
   "source": [
    "We need to plot the data to get a better understanding of what is going on"
   ]
  },
  {
   "cell_type": "code",
   "execution_count": 3083,
   "metadata": {},
   "outputs": [
    {
     "data": {
      "image/png": "[encoded data removed]",
      "text/plain": [
       "<Figure size 1000x500 with 1 Axes>"
      ]
     },
     "metadata": {},
     "output_type": "display_data"
    }
   ],
   "source": [
    "# We create a plot showing the closing price of Tesla stock labeled by year\n",
    "fig, ax = plt.subplots(figsize=(10, 5))\n",
    "ax.plot(data[\"Date\"], data['Close'],)\n",
    "ax.set_xlabel('Year')\n",
    "ax.xaxis.set_major_locator(mdates.YearLocator())\n",
    "ax.set_ylabel('Closing price')\n",
    "fig.autofmt_xdate(rotation=-30, ha='left')\n",
    "plt.show()"
   ]
  },
  {
   "cell_type": "markdown",
   "metadata": {},
   "source": [
    "From the plot we can see that the value skyrocketed in 2020. We might need to keep this in mind when training our model."
   ]
  },
  {
   "cell_type": "markdown",
   "metadata": {},
   "source": [
    "# Preparing the data"
   ]
  },
  {
   "cell_type": "code",
   "execution_count": 3084,
   "metadata": {},
   "outputs": [
    {
     "name": "stdout",
     "output_type": "stream",
     "text": [
      "<class 'pandas.core.frame.DataFrame'>\n",
      "DatetimeIndex: 2647 entries, 2010-06-29 to 2020-12-31\n",
      "Data columns (total 5 columns):\n",
      " #   Column       Non-Null Count  Dtype  \n",
      "---  ------       --------------  -----  \n",
      " 0   Year         2647 non-null   int32  \n",
      " 1   Month        2647 non-null   int32  \n",
      " 2   Day          2647 non-null   int32  \n",
      " 3   Day_of_week  2647 non-null   int32  \n",
      " 4   Close        2647 non-null   float64\n",
      "dtypes: float64(1), int32(4)\n",
      "memory usage: 82.7 KB\n"
     ]
    },
    {
     "data": {
      "text/html": [
       "<div>\n",
       "<style scoped>\n",
       "    .dataframe tbody tr th:only-of-type {\n",
       "        vertical-align: middle;\n",
       "    }\n",
       "\n",
       "    .dataframe tbody tr th {\n",
       "        vertical-align: top;\n",
       "    }\n",
       "\n",
       "    .dataframe thead th {\n",
       "        text-align: right;\n",
       "    }\n",
       "</style>\n",
       "<table border=\"1\" class=\"dataframe\">\n",
       "  <thead>\n",
       "    <tr style=\"text-align: right;\">\n",
       "      <th></th>\n",
       "      <th>Year</th>\n",
       "      <th>Month</th>\n",
       "      <th>Day</th>\n",
       "      <th>Day_of_week</th>\n",
       "      <th>Close</th>\n",
       "    </tr>\n",
       "    <tr>\n",
       "      <th>Date</th>\n",
       "      <th></th>\n",
       "      <th></th>\n",
       "      <th></th>\n",
       "      <th></th>\n",
       "      <th></th>\n",
       "    </tr>\n",
       "  </thead>\n",
       "  <tbody>\n",
       "    <tr>\n",
       "      <th>2020-12-24</th>\n",
       "      <td>2020</td>\n",
       "      <td>12</td>\n",
       "      <td>24</td>\n",
       "      <td>3</td>\n",
       "      <td>220.589996</td>\n",
       "    </tr>\n",
       "    <tr>\n",
       "      <th>2020-12-28</th>\n",
       "      <td>2020</td>\n",
       "      <td>12</td>\n",
       "      <td>28</td>\n",
       "      <td>0</td>\n",
       "      <td>221.229996</td>\n",
       "    </tr>\n",
       "    <tr>\n",
       "      <th>2020-12-29</th>\n",
       "      <td>2020</td>\n",
       "      <td>12</td>\n",
       "      <td>29</td>\n",
       "      <td>1</td>\n",
       "      <td>221.996674</td>\n",
       "    </tr>\n",
       "    <tr>\n",
       "      <th>2020-12-30</th>\n",
       "      <td>2020</td>\n",
       "      <td>12</td>\n",
       "      <td>30</td>\n",
       "      <td>2</td>\n",
       "      <td>231.593338</td>\n",
       "    </tr>\n",
       "    <tr>\n",
       "      <th>2020-12-31</th>\n",
       "      <td>2020</td>\n",
       "      <td>12</td>\n",
       "      <td>31</td>\n",
       "      <td>3</td>\n",
       "      <td>235.223328</td>\n",
       "    </tr>\n",
       "  </tbody>\n",
       "</table>\n",
       "</div>"
      ],
      "text/plain": [
       "            Year  Month  Day  Day_of_week       Close\n",
       "Date                                                 \n",
       "2020-12-24  2020     12   24            3  220.589996\n",
       "2020-12-28  2020     12   28            0  221.229996\n",
       "2020-12-29  2020     12   29            1  221.996674\n",
       "2020-12-30  2020     12   30            2  231.593338\n",
       "2020-12-31  2020     12   31            3  235.223328"
      ]
     },
     "execution_count": 3084,
     "metadata": {},
     "output_type": "execute_result"
    }
   ],
   "source": [
    "# We create a new dataframe with only the Date and Close columns\n",
    "df = data[['Date', 'Close']].copy()\n",
    "\n",
    "# We separate the Date column into Year, Month, day and DayOfWeek columns to use them as features\n",
    "df['Year'] = df['Date'].dt.year\n",
    "df['Month'] = df['Date'].dt.month\n",
    "df['Day'] = df['Date'].dt.day\n",
    "df['Day_of_week'] = df['Date'].dt.dayofweek\n",
    "\n",
    "# Set the Date column as the index\n",
    "df.set_index('Date', inplace=True, drop=True)\n",
    "\n",
    "# Move Column Close to the end\n",
    "df = df[[c for c in df if c not in ['Close']] + ['Close']]\n",
    "\n",
    "# # We create a new column with the closing price of the next day\n",
    "# df['Close_next_day'] = df['Close'].shift(-1)\n",
    "\n",
    "# # Crate a baseline column with a naive guess. The closing price of the current day\n",
    "# df['naive_guess'] = df['Close']\n",
    "\n",
    "# Cut of at the end of 2020\n",
    "# df = df[:'2020-12-31']\n",
    "\n",
    "# Cut of at the end of 2020\n",
    "df = df[:'2020-12-31']\n",
    "\n",
    "df.info()\n",
    "\n",
    "df.tail()"
   ]
  },
  {
   "cell_type": "code",
   "execution_count": 3085,
   "metadata": {},
   "outputs": [
    {
     "data": {
      "text/html": [
       "<style>#sk-container-id-251 {color: black;}#sk-container-id-251 pre{padding: 0;}#sk-container-id-251 div.sk-toggleable {background-color: white;}#sk-container-id-251 label.sk-toggleable__label {cursor: pointer;display: block;width: 100%;margin-bottom: 0;padding: 0.3em;box-sizing: border-box;text-align: center;}#sk-container-id-251 label.sk-toggleable__label-arrow:before {content: \"▸\";float: left;margin-right: 0.25em;color: #696969;}#sk-container-id-251 label.sk-toggleable__label-arrow:hover:before {color: black;}#sk-container-id-251 div.sk-estimator:hover label.sk-toggleable__label-arrow:before {color: black;}#sk-container-id-251 div.sk-toggleable__content {max-height: 0;max-width: 0;overflow: hidden;text-align: left;background-color: #f0f8ff;}#sk-container-id-251 div.sk-toggleable__content pre {margin: 0.2em;color: black;border-radius: 0.25em;background-color: #f0f8ff;}#sk-container-id-251 input.sk-toggleable__control:checked~div.sk-toggleable__content {max-height: 200px;max-width: 100%;overflow: auto;}#sk-container-id-251 input.sk-toggleable__control:checked~label.sk-toggleable__label-arrow:before {content: \"▾\";}#sk-container-id-251 div.sk-estimator input.sk-toggleable__control:checked~label.sk-toggleable__label {background-color: #d4ebff;}#sk-container-id-251 div.sk-label input.sk-toggleable__control:checked~label.sk-toggleable__label {background-color: #d4ebff;}#sk-container-id-251 input.sk-hidden--visually {border: 0;clip: rect(1px 1px 1px 1px);clip: rect(1px, 1px, 1px, 1px);height: 1px;margin: -1px;overflow: hidden;padding: 0;position: absolute;width: 1px;}#sk-container-id-251 div.sk-estimator {font-family: monospace;background-color: #f0f8ff;border: 1px dotted black;border-radius: 0.25em;box-sizing: border-box;margin-bottom: 0.5em;}#sk-container-id-251 div.sk-estimator:hover {background-color: #d4ebff;}#sk-container-id-251 div.sk-parallel-item::after {content: \"\";width: 100%;border-bottom: 1px solid gray;flex-grow: 1;}#sk-container-id-251 div.sk-label:hover label.sk-toggleable__label {background-color: #d4ebff;}#sk-container-id-251 div.sk-serial::before {content: \"\";position: absolute;border-left: 1px solid gray;box-sizing: border-box;top: 0;bottom: 0;left: 50%;z-index: 0;}#sk-container-id-251 div.sk-serial {display: flex;flex-direction: column;align-items: center;background-color: white;padding-right: 0.2em;padding-left: 0.2em;position: relative;}#sk-container-id-251 div.sk-item {position: relative;z-index: 1;}#sk-container-id-251 div.sk-parallel {display: flex;align-items: stretch;justify-content: center;background-color: white;position: relative;}#sk-container-id-251 div.sk-item::before, #sk-container-id-251 div.sk-parallel-item::before {content: \"\";position: absolute;border-left: 1px solid gray;box-sizing: border-box;top: 0;bottom: 0;left: 50%;z-index: -1;}#sk-container-id-251 div.sk-parallel-item {display: flex;flex-direction: column;z-index: 1;position: relative;background-color: white;}#sk-container-id-251 div.sk-parallel-item:first-child::after {align-self: flex-end;width: 50%;}#sk-container-id-251 div.sk-parallel-item:last-child::after {align-self: flex-start;width: 50%;}#sk-container-id-251 div.sk-parallel-item:only-child::after {width: 0;}#sk-container-id-251 div.sk-dashed-wrapped {border: 1px dashed gray;margin: 0 0.4em 0.5em 0.4em;box-sizing: border-box;padding-bottom: 0.4em;background-color: white;}#sk-container-id-251 div.sk-label label {font-family: monospace;font-weight: bold;display: inline-block;line-height: 1.2em;}#sk-container-id-251 div.sk-label-container {text-align: center;}#sk-container-id-251 div.sk-container {/* jupyter's `normalize.less` sets `[hidden] { display: none; }` but bootstrap.min.css set `[hidden] { display: none !important; }` so we also need the `!important` here to be able to override the default hidden behavior on the sphinx rendered scikit-learn.org. See: https://github.com/scikit-learn/scikit-learn/issues/21755 */display: inline-block !important;position: relative;}#sk-container-id-251 div.sk-text-repr-fallback {display: none;}</style><div id=\"sk-container-id-251\" class=\"sk-top-container\"><div class=\"sk-text-repr-fallback\"><pre>GradientBoostingRegressor()</pre><b>In a Jupyter environment, please rerun this cell to show the HTML representation or trust the notebook. <br />On GitHub, the HTML representation is unable to render, please try loading this page with nbviewer.org.</b></div><div class=\"sk-container\" hidden><div class=\"sk-item\"><div class=\"sk-estimator sk-toggleable\"><input class=\"sk-toggleable__control sk-hidden--visually\" id=\"sk-estimator-id-271\" type=\"checkbox\" checked><label for=\"sk-estimator-id-271\" class=\"sk-toggleable__label sk-toggleable__label-arrow\">GradientBoostingRegressor</label><div class=\"sk-toggleable__content\"><pre>GradientBoostingRegressor()</pre></div></div></div></div></div>"
      ],
      "text/plain": [
       "GradientBoostingRegressor()"
      ]
     },
     "execution_count": 3085,
     "metadata": {},
     "output_type": "execute_result"
    }
   ],
   "source": [
    "\n",
    "\n",
    "# Split the dataframe into features X and target Y\n",
    "X = df.drop(['Close'], axis=1)\n",
    "Y = df['Close']\n",
    "\n",
    "# Split the data into training and testing sets\n",
    "x_train, x_test, y_train, y_test = train_test_split(\n",
    "    X, Y, test_size=0.1, random_state=1)\n",
    "\n",
    "# We create a GradientBoostingRegressor model with default parameters\n",
    "model = GradientBoostingRegressor()\n",
    "\n",
    "# We fit the model to the training data\n",
    "model.fit(x_train, y_train)"
   ]
  },
  {
   "cell_type": "code",
   "execution_count": 3086,
   "metadata": {},
   "outputs": [
    {
     "name": "stdout",
     "output_type": "stream",
     "text": [
      "The mean squared error is: 13.2228\n"
     ]
    }
   ],
   "source": [
    "# We calculate the mean squared error of the model\n",
    "mse = mean_squared_error(y_test, model.predict(x_test))\n",
    "print(\"The mean squared error is: {:.4f}\".format(mse))"
   ]
  },
  {
   "cell_type": "markdown",
   "metadata": {},
   "source": [
    "# Plot feature importance"
   ]
  },
  {
   "cell_type": "code",
   "execution_count": 3087,
   "metadata": {},
   "outputs": [
    {
     "data": {
      "text/plain": [
       "<Axes: >"
      ]
     },
     "execution_count": 3087,
     "metadata": {},
     "output_type": "execute_result"
    },
    {
     "data": {
      "image/png": "[encoded data removed]",
      "text/plain": [
       "<Figure size 640x480 with 1 Axes>"
      ]
     },
     "metadata": {},
     "output_type": "display_data"
    }
   ],
   "source": [
    "# Lets plot the feature importances of the model to see which features are the most important\n",
    "feature_importances = pd.Series(model.feature_importances_, index=X.columns)\n",
    "feature_importances.plot(kind='barh')"
   ]
  },
  {
   "cell_type": "markdown",
   "metadata": {},
   "source": [
    "# Hyperparameter tuning\n",
    "\n",
    "In order to improve the performance of the model we need to tune the hyperparameters. We will use the RandomizedSearchCV to find the best hyperparameters."
   ]
  },
  {
   "cell_type": "code",
   "execution_count": 3095,
   "metadata": {},
   "outputs": [],
   "source": [
    "# We create a new GradientBoostingRegressor model with default parameters\n",
    "model_new = GradientBoostingRegressor()\n",
    "\n",
    "# We create a dictionary with the parameters we want to test\n",
    "distrubutions = {\n",
    "    \"n_estimators\": [100, 250, 500, 750, 1000],\n",
    "    \"max_depth\": [2, 3, 4, 5, 6],\n",
    "    \"min_samples_split\": [2, 3, 4, 5],\n",
    "    \"learning_rate\": [0.001, 0.01, 0.1, 1],\n",
    "    \"loss\": [\"squared_error\", \"absolute_error\", \"huber\", \"quantile\"],\n",
    "}\n",
    "\n",
    "# Create a RandomizedSearchCV object with the model and the distributions\n",
    "search = RandomizedSearchCV(\n",
    "    model_new,\n",
    "    param_distributions=distrubutions,\n",
    "    n_iter=10,\n",
    "    scoring=\"neg_mean_squared_error\",\n",
    "    n_jobs=-1,\n",
    "    cv=5,\n",
    ")\n",
    "\n",
    "# Best params from running the RandomizedSearchCV above with iterations=250 (MSE: 5)\n",
    "# {'n_estimators': 1000,\n",
    "#  'min_samples_split': 5,\n",
    "#  'max_depth': 6,\n",
    "#  'loss': 'squared_error',\n",
    "#  'learning_rate': 0.01}\n",
    "\n",
    "# Fit the model with x and y train sets from earlier\n",
    "search.fit(x_train, y_train)\n",
    "model_new = search.best_estimator_ # Get the best model\n",
    "best_params = search.best_params_ # Get the best parameters\n",
    "best_params"
   ]
  },
  {
   "cell_type": "code",
   "execution_count": 3097,
   "metadata": {},
   "outputs": [
    {
     "name": "stdout",
     "output_type": "stream",
     "text": [
      "The mean squared error (MSE) on test set: 5.0786\n"
     ]
    }
   ],
   "source": [
    "# We calculate the mean squared error of the tuned model\n",
    "mse_new = mean_squared_error(y_test, model_new.predict(x_test))\n",
    "print(\"The mean squared error (MSE) on test set: {:.4f}\".format(mse_new))"
   ]
  },
  {
   "cell_type": "code",
   "execution_count": 3098,
   "metadata": {},
   "outputs": [
    {
     "name": "stdout",
     "output_type": "stream",
     "text": [
      "The mean squared error (MSE) improvement: 61.59%\n"
     ]
    }
   ],
   "source": [
    "# Lets look at the improvement in MSE \n",
    "print(\"The mean squared error (MSE) improvement: {:.2f}%\".format(\n",
    "    (mse - mse_new) / mse * 100))"
   ]
  },
  {
   "cell_type": "code",
   "execution_count": 3103,
   "metadata": {},
   "outputs": [
    {
     "name": "stdout",
     "output_type": "stream",
     "text": [
      "The predicted closing price for 28.10.2023 is: 134.27\n"
     ]
    }
   ],
   "source": [
    "# Make a prediction for the closing price of the next day 28.10.2023\n",
    "# We create a new dataframe with the date 28.10.2023\n",
    "date = \"2023-10-28\"\n",
    "\n",
    "future = pd.DataFrame(\n",
    "    data={'Date': ['2023-10-28']},\n",
    "    columns=['Date'],\n",
    ")\n",
    "\n",
    "# We transform the Date column to datetime type\n",
    "future['Date'] = pd.to_datetime(future['Date'])\n",
    "\n",
    "# We separate the Date column into Year, Month, day and DayOfWeek columns to use them as features\n",
    "future['Year'] = future['Date'].dt.year\n",
    "future['Month'] = future['Date'].dt.month\n",
    "future['Day'] = future['Date'].dt.day\n",
    "future['Day_of_week'] = future['Date'].dt.dayofweek\n",
    "\n",
    "# Set the Date column as the index\n",
    "future.set_index('Date', inplace=True, drop=True)\n",
    "\n",
    "# Make a prediction for the closing price of the next day 28.20.2023\n",
    "prediction = model_new.predict(future)\n",
    "\n",
    "# Print the prediction\n",
    "print(\"The predicted closing price for {} is: {:.2f}\".format(prediction[0]))"
   ]
  },
  {
   "cell_type": "markdown",
   "metadata": {},
   "source": [
    "# Further improvements\n",
    "\n",
    "We created a model that predicts the closing price of Tesla stock based only on features derived from the date. Ideally we would like to use more features to improve the performance of the model. We would also be more likely to get a meaningful result if we turned this into a classification problem to only predict if the price will go up or down, based on a set of features and a series of historical data."
   ]
  }
 ],
 "metadata": {
  "kernelspec": {
   "display_name": "dave3625",
   "language": "python",
   "name": "python3"
  },
  "language_info": {
   "codemirror_mode": {
    "name": "ipython",
    "version": 3
   },
   "file_extension": ".py",
   "mimetype": "text/x-python",
   "name": "python",
   "nbconvert_exporter": "python",
   "pygments_lexer": "ipython3",
   "version": "3.8.18"
  }
 },
 "nbformat": 4,
 "nbformat_minor": 2
}
