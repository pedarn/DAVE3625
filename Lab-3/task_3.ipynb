{
 "cells": [
  {
   "cell_type": "markdown",
   "metadata": {},
   "source": [
    "# Task 3"
   ]
  },
  {
   "cell_type": "markdown",
   "metadata": {},
   "source": [
    "## Imports"
   ]
  },
  {
   "cell_type": "code",
   "execution_count": 573,
   "metadata": {},
   "outputs": [],
   "source": [
    "%matplotlib inline\n",
    "import pandas as pd\n",
    "import numpy as np\n",
    "import matplotlib.pyplot as plt\n",
    "import datetime"
   ]
  },
  {
   "cell_type": "markdown",
   "metadata": {},
   "source": [
    "## Reading data"
   ]
  },
  {
   "cell_type": "markdown",
   "metadata": {},
   "source": [
    "Using pandas we read the csv file and store it in a dataframe."
   ]
  },
  {
   "cell_type": "code",
   "execution_count": 574,
   "metadata": {},
   "outputs": [],
   "source": [
    "# read flight.csv\n",
    "df = pd.read_csv('data/flight.csv')"
   ]
  },
  {
   "cell_type": "markdown",
   "metadata": {},
   "source": [
    "Calling info() we can see that most data types are wrong"
   ]
  },
  {
   "cell_type": "code",
   "execution_count": 575,
   "metadata": {},
   "outputs": [
    {
     "name": "stdout",
     "output_type": "stream",
     "text": [
      "<class 'pandas.core.frame.DataFrame'>\n",
      "RangeIndex: 121427 entries, 0 to 121426\n",
      "Data columns (total 8 columns):\n",
      " #   Column          Non-Null Count   Dtype \n",
      "---  ------          --------------   ----- \n",
      " 0   Unnamed: 0      121427 non-null  int64 \n",
      " 1   datetime_val    121427 non-null  object\n",
      " 2   dep_time        121427 non-null  object\n",
      " 3   arr_time        121427 non-null  object\n",
      " 4   sched_arr_time  121427 non-null  object\n",
      " 5   flight          121427 non-null  int64 \n",
      " 6   origin          121427 non-null  object\n",
      " 7   dest            121427 non-null  object\n",
      "dtypes: int64(2), object(6)\n",
      "memory usage: 7.4+ MB\n"
     ]
    }
   ],
   "source": [
    "df.info()"
   ]
  },
  {
   "cell_type": "markdown",
   "metadata": {},
   "source": [
    "## Converting data types"
   ]
  },
  {
   "cell_type": "markdown",
   "metadata": {},
   "source": [
    "In order to convert the data types we use the to_datetime() function from pandas"
   ]
  },
  {
   "cell_type": "code",
   "execution_count": 576,
   "metadata": {},
   "outputs": [],
   "source": [
    "df['datetime_val'] = pd.to_datetime(df['datetime_val'])\n",
    "df['dep_time'] = pd.to_datetime(df['dep_time'], errors='coerce')\n",
    "df['arr_time'] = pd.to_datetime(df['arr_time'], errors='coerce')\n",
    "df['sched_arr_time'] = pd.to_datetime(df['sched_arr_time'])"
   ]
  },
  {
   "cell_type": "markdown",
   "metadata": {},
   "source": [
    "Printing info again we can see that the data types are now correct"
   ]
  },
  {
   "cell_type": "code",
   "execution_count": 577,
   "metadata": {},
   "outputs": [
    {
     "name": "stdout",
     "output_type": "stream",
     "text": [
      "<class 'pandas.core.frame.DataFrame'>\n",
      "RangeIndex: 121427 entries, 0 to 121426\n",
      "Data columns (total 8 columns):\n",
      " #   Column          Non-Null Count   Dtype         \n",
      "---  ------          --------------   -----         \n",
      " 0   Unnamed: 0      121427 non-null  int64         \n",
      " 1   datetime_val    121427 non-null  datetime64[ns]\n",
      " 2   dep_time        121421 non-null  datetime64[ns]\n",
      " 3   arr_time        121379 non-null  datetime64[ns]\n",
      " 4   sched_arr_time  121427 non-null  datetime64[ns]\n",
      " 5   flight          121427 non-null  int64         \n",
      " 6   origin          121427 non-null  object        \n",
      " 7   dest            121427 non-null  object        \n",
      "dtypes: datetime64[ns](4), int64(2), object(2)\n",
      "memory usage: 7.4+ MB\n"
     ]
    }
   ],
   "source": [
    "df.info()"
   ]
  },
  {
   "cell_type": "markdown",
   "metadata": {},
   "source": [
    "## Correcting errors"
   ]
  },
  {
   "cell_type": "markdown",
   "metadata": {},
   "source": [
    "In order to correct errors in the dataset we have to check that arrival time is after departure time, and if not we have to add 24 hours to the arrival time."
   ]
  },
  {
   "cell_type": "code",
   "execution_count": 578,
   "metadata": {},
   "outputs": [],
   "source": [
    "def fix_errors():\n",
    "    # Loop over all rows in the dataframe\n",
    "    for index, row in df.iterrows():\n",
    "        # Check if arr_time is less than dep_time\n",
    "        if (row['arr_time'] < row['dep_time']):\n",
    "            # Add 1 day to arr_time\n",
    "            df.loc[index, 'arr_time'] = (row['arr_time']) + datetime.timedelta(days=1)\n",
    "\n",
    "# Call the function\n",
    "fix_errors()"
   ]
  },
  {
   "cell_type": "markdown",
   "metadata": {},
   "source": [
    "The proposed solution also checks if the scheduled departure time is after the scheduled arrival time, and adds 24 hours to the arrival time if this is the case."
   ]
  },
  {
   "cell_type": "markdown",
   "metadata": {},
   "source": [
    "This does not make sense as delays are not taken into account. If a flight is delayed for longer than the flight time, the arrival time will be before the departure time.\n",
    "\n",
    "We opt to not correct this error as it could introduce even more errors."
   ]
  },
  {
   "cell_type": "code",
   "execution_count": 579,
   "metadata": {},
   "outputs": [],
   "source": [
    "def fix_but_introduce_errors():\n",
    "    # Loop over all rows in the dataframe\n",
    "    for index, row in df.iterrows():\n",
    "        # Check if sched_arr_time is less than dep_time\n",
    "        if (row['sched_arr_time'] < row['dep_time']):\n",
    "            # Add 1 day to sched_arr_time\n",
    "            df.loc[index, 'sched_arr_time'] = (row['sched_arr_time']) + datetime.timedelta(days=1)"
   ]
  },
  {
   "cell_type": "markdown",
   "metadata": {},
   "source": [
    "# Air time"
   ]
  },
  {
   "cell_type": "markdown",
   "metadata": {},
   "source": [
    "We calculate air time by subtracting departure time from arrival time."
   ]
  },
  {
   "cell_type": "code",
   "execution_count": 580,
   "metadata": {},
   "outputs": [],
   "source": [
    "# Calculate air_time\n",
    "df['air_time'] = df[\"arr_time\"] - df[\"dep_time\"]"
   ]
  },
  {
   "cell_type": "markdown",
   "metadata": {},
   "source": [
    "We call describe() to check that our values are reasonable.\n",
    "\n",
    "If we were to comment out the call to fix_errors() above, we would see that the minimum air time is negative, which is not possible."
   ]
  },
  {
   "cell_type": "code",
   "execution_count": 581,
   "metadata": {},
   "outputs": [
    {
     "data": {
      "text/plain": [
       "count                       121373\n",
       "mean     0 days 02:24:35.250673543\n",
       "std      0 days 00:48:21.085119025\n",
       "min                0 days 00:44:00\n",
       "25%                0 days 01:44:00\n",
       "50%                0 days 02:35:00\n",
       "75%                0 days 03:01:00\n",
       "max                0 days 06:21:00\n",
       "Name: air_time, dtype: object"
      ]
     },
     "execution_count": 581,
     "metadata": {},
     "output_type": "execute_result"
    }
   ],
   "source": [
    "df['air_time'].describe()"
   ]
  },
  {
   "cell_type": "markdown",
   "metadata": {},
   "source": [
    "We calculate delay by subtracting scheduled departure time from actual departure time."
   ]
  },
  {
   "cell_type": "code",
   "execution_count": 582,
   "metadata": {},
   "outputs": [],
   "source": [
    "# Calculate delay\n",
    "df['delay'] = df[\"arr_time\"] - df[\"sched_arr_time\"]"
   ]
  },
  {
   "cell_type": "markdown",
   "metadata": {},
   "source": [
    "Again we call describe() to check that our values are reasonable."
   ]
  },
  {
   "cell_type": "code",
   "execution_count": 583,
   "metadata": {},
   "outputs": [
    {
     "data": {
      "text/plain": [
       "count                       121379\n",
       "mean     0 days 00:28:54.285172888\n",
       "std      0 days 03:21:20.312224371\n",
       "min              -1 days +01:03:00\n",
       "25%              -1 days +23:43:00\n",
       "50%              -1 days +23:54:00\n",
       "75%                0 days 00:13:00\n",
       "max                1 days 02:58:00\n",
       "Name: delay, dtype: object"
      ]
     },
     "execution_count": 583,
     "metadata": {},
     "output_type": "execute_result"
    }
   ],
   "source": [
    "df['delay'].describe()"
   ]
  },
  {
   "cell_type": "markdown",
   "metadata": {},
   "source": [
    "Some of the values look suspicious, and we inspect further by looking at the minimum value."
   ]
  },
  {
   "cell_type": "code",
   "execution_count": 584,
   "metadata": {},
   "outputs": [
    {
     "data": {
      "text/plain": [
       "Unnamed: 0                      68111\n",
       "datetime_val      2013-04-23 22:50:00\n",
       "dep_time          2013-04-23 00:05:00\n",
       "arr_time          2013-04-23 01:01:00\n",
       "sched_arr_time    2013-04-23 23:58:00\n",
       "flight                           1018\n",
       "origin                            JFK\n",
       "dest                              BOS\n",
       "air_time              0 days 00:56:00\n",
       "delay               -1 days +01:03:00\n",
       "Name: 66730, dtype: object"
      ]
     },
     "execution_count": 584,
     "metadata": {},
     "output_type": "execute_result"
    }
   ],
   "source": [
    "df.iloc[df['delay'].argmin()]"
   ]
  },
  {
   "cell_type": "markdown",
   "metadata": {},
   "source": [
    " We see that the reason for the negative value is that the plane was delayed past midnight, but the dates were not updated. We could implement a function to fix errors like this, but it is hard to reason about what the correct values should be without looking at all the fields. Instead we will remove these outliers later."
   ]
  },
  {
   "cell_type": "markdown",
   "metadata": {},
   "source": [
    "## Calculating percentage delay"
   ]
  },
  {
   "cell_type": "markdown",
   "metadata": {},
   "source": [
    "We calculate the percentage delay by dividing the delay by the air time and multiplying by 100."
   ]
  },
  {
   "cell_type": "code",
   "execution_count": 585,
   "metadata": {},
   "outputs": [],
   "source": [
    "# Calculate percent_delay\n",
    "df['percent_delay'] = (df['delay']) / (df['air_time']) * 100"
   ]
  },
  {
   "cell_type": "markdown",
   "metadata": {},
   "source": [
    "We plot the percentage delay to have a look at the outliers."
   ]
  },
  {
   "cell_type": "code",
   "execution_count": 586,
   "metadata": {},
   "outputs": [
    {
     "data": {
      "text/plain": [
       "<Axes: >"
      ]
     },
     "execution_count": 586,
     "metadata": {},
     "output_type": "execute_result"
    },
    {
     "data": {
      "image/png": "[encoded data removed]",
      "text/plain": [
       "<Figure size 640x480 with 1 Axes>"
      ]
     },
     "metadata": {},
     "output_type": "display_data"
    }
   ],
   "source": [
    "df['percent_delay'].plot.box()"
   ]
  },
  {
   "cell_type": "markdown",
   "metadata": {},
   "source": [
    "As we can se from the plot there are a lot of outliers, and we will remove these."
   ]
  },
  {
   "cell_type": "code",
   "execution_count": 587,
   "metadata": {},
   "outputs": [],
   "source": [
    "# Function to remove outliers outside the 5th and 95th percentile\n",
    "def remove_outlier(df):\n",
    "    low = .05 # 5th percentile\n",
    "    high = .95 # 95th percentile\n",
    "\n",
    "    # Calculate quantile\n",
    "    quant_df = df.quantile([low, high])\n",
    "\n",
    "    if is_numeric_dtype(df):\n",
    "        # Remove outliers using the quantiles\n",
    "        df = df[(df > quant_df.loc[low]) & (df < quant_df.loc[high])]\n",
    "    return df"
   ]
  },
  {
   "cell_type": "code",
   "execution_count": 588,
   "metadata": {},
   "outputs": [],
   "source": [
    "\n",
    "# Using the remove_outliers() function\n",
    "df['percent_delay'] = remove_outlier(df['percent_delay'])"
   ]
  },
  {
   "cell_type": "markdown",
   "metadata": {},
   "source": [
    "When describing the percentage delay again we see that the values are much more reasonable after removing the outliers."
   ]
  },
  {
   "cell_type": "code",
   "execution_count": 589,
   "metadata": {},
   "outputs": [
    {
     "data": {
      "text/plain": [
       "count    109215.000000\n",
       "mean         -0.612583\n",
       "std          18.752958\n",
       "min         -32.758621\n",
       "25%         -12.582781\n",
       "50%          -3.846154\n",
       "75%           6.593407\n",
       "max          77.297297\n",
       "Name: percent_delay, dtype: float64"
      ]
     },
     "execution_count": 589,
     "metadata": {},
     "output_type": "execute_result"
    }
   ],
   "source": [
    "df['percent_delay'].describe()"
   ]
  },
  {
   "cell_type": "markdown",
   "metadata": {},
   "source": [
    "Same with the box plot"
   ]
  },
  {
   "cell_type": "code",
   "execution_count": 590,
   "metadata": {},
   "outputs": [
    {
     "data": {
      "text/plain": [
       "<Axes: >"
      ]
     },
     "execution_count": 590,
     "metadata": {},
     "output_type": "execute_result"
    },
    {
     "data": {
      "image/png": "[encoded data removed]",
      "text/plain": [
       "<Figure size 640x480 with 1 Axes>"
      ]
     },
     "metadata": {},
     "output_type": "display_data"
    }
   ],
   "source": [
    "df['percent_delay'].plot.box()"
   ]
  },
  {
   "cell_type": "markdown",
   "metadata": {},
   "source": [
    "## Charts"
   ]
  },
  {
   "cell_type": "code",
   "execution_count": 591,
   "metadata": {},
   "outputs": [
    {
     "data": {
      "text/plain": [
       "<Axes: title={'center': 'Percent Delayed'}, xlabel='percentage of delay', ylabel='total'>"
      ]
     },
     "execution_count": 591,
     "metadata": {},
     "output_type": "execute_result"
    },
    {
     "data": {
      "image/png": "[encoded data removed]",
      "text/plain": [
       "<Figure size 1000x1000 with 1 Axes>"
      ]
     },
     "metadata": {},
     "output_type": "display_data"
    }
   ],
   "source": [
    "# Histogram of percent_delay\n",
    "df['percent_delay'].plot.hist(bins=100, figsize=(10,10), title='Percent Delayed', ylabel=\"total\", xlabel=\"percentage of delay\")\n"
   ]
  },
  {
   "cell_type": "markdown",
   "metadata": {},
   "source": [
    "When looking at the histogram we can clearly see where we removed the outliers. We also get a sense of how many flights are delayed. It would perhaps be better to call it something other than delay as it includes both positive and negative deviations from the scheduled arrival time."
   ]
  }
 ],
 "metadata": {
  "kernelspec": {
   "display_name": "dave3625",
   "language": "python",
   "name": "python3"
  },
  "language_info": {
   "codemirror_mode": {
    "name": "ipython",
    "version": 3
   },
   "file_extension": ".py",
   "mimetype": "text/x-python",
   "name": "python",
   "nbconvert_exporter": "python",
   "pygments_lexer": "ipython3",
   "version": "3.8.18"
  },
  "orig_nbformat": 4
 },
 "nbformat": 4,
 "nbformat_minor": 2
}
