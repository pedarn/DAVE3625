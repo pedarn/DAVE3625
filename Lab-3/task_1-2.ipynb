{
 "cells": [
  {
   "cell_type": "markdown",
   "metadata": {},
   "source": [
    "# Tasks 1 and 2"
   ]
  },
  {
   "cell_type": "markdown",
   "metadata": {},
   "source": [
    "## Imports"
   ]
  },
  {
   "cell_type": "code",
   "execution_count": 191,
   "metadata": {},
   "outputs": [],
   "source": [
    "from faker import Faker\n",
    "import pandas as pd\n",
    "from faker.providers.credit_card import Provider as CreditCardProvider\n"
   ]
  },
  {
   "cell_type": "markdown",
   "metadata": {},
   "source": [
    "## 1. Faker"
   ]
  },
  {
   "cell_type": "markdown",
   "metadata": {},
   "source": [
    "We start by creating an empty dataframe with only the column headers."
   ]
  },
  {
   "cell_type": "code",
   "execution_count": 192,
   "metadata": {},
   "outputs": [
    {
     "data": {
      "text/html": [
       "<div>\n",
       "<style scoped>\n",
       "    .dataframe tbody tr th:only-of-type {\n",
       "        vertical-align: middle;\n",
       "    }\n",
       "\n",
       "    .dataframe tbody tr th {\n",
       "        vertical-align: top;\n",
       "    }\n",
       "\n",
       "    .dataframe thead th {\n",
       "        text-align: right;\n",
       "    }\n",
       "</style>\n",
       "<table border=\"1\" class=\"dataframe\">\n",
       "  <thead>\n",
       "    <tr style=\"text-align: right;\">\n",
       "      <th></th>\n",
       "      <th>name</th>\n",
       "      <th>address</th>\n",
       "      <th>ssn</th>\n",
       "      <th>credit_card_number</th>\n",
       "      <th>ipv4</th>\n",
       "    </tr>\n",
       "  </thead>\n",
       "  <tbody>\n",
       "  </tbody>\n",
       "</table>\n",
       "</div>"
      ],
      "text/plain": [
       "Empty DataFrame\n",
       "Columns: [name, address, ssn, credit_card_number, ipv4]\n",
       "Index: []"
      ]
     },
     "execution_count": 192,
     "metadata": {},
     "output_type": "execute_result"
    }
   ],
   "source": [
    "# Crate dataframe\n",
    "df = pd.DataFrame(columns=['name','address','ssn','credit_card_number','ipv4'])\n",
    "\n",
    "# Print to se result\n",
    "df.head()"
   ]
  },
  {
   "cell_type": "markdown",
   "metadata": {},
   "source": [
    "Then we initialize faker using the Faker() function, passing it the norwegian locale."
   ]
  },
  {
   "cell_type": "code",
   "execution_count": 193,
   "metadata": {},
   "outputs": [],
   "source": [
    "fake = Faker(['no_NO'])"
   ]
  },
  {
   "cell_type": "markdown",
   "metadata": {},
   "source": [
    "We then insert 100 rows, calling the apropiate faker functions for each column."
   ]
  },
  {
   "cell_type": "code",
   "execution_count": 194,
   "metadata": {},
   "outputs": [
    {
     "data": {
      "text/html": [
       "<div>\n",
       "<style scoped>\n",
       "    .dataframe tbody tr th:only-of-type {\n",
       "        vertical-align: middle;\n",
       "    }\n",
       "\n",
       "    .dataframe tbody tr th {\n",
       "        vertical-align: top;\n",
       "    }\n",
       "\n",
       "    .dataframe thead th {\n",
       "        text-align: right;\n",
       "    }\n",
       "</style>\n",
       "<table border=\"1\" class=\"dataframe\">\n",
       "  <thead>\n",
       "    <tr style=\"text-align: right;\">\n",
       "      <th></th>\n",
       "      <th>name</th>\n",
       "      <th>address</th>\n",
       "      <th>ssn</th>\n",
       "      <th>credit_card_number</th>\n",
       "      <th>ipv4</th>\n",
       "    </tr>\n",
       "  </thead>\n",
       "  <tbody>\n",
       "    <tr>\n",
       "      <th>count</th>\n",
       "      <td>100</td>\n",
       "      <td>100</td>\n",
       "      <td>100</td>\n",
       "      <td>100</td>\n",
       "      <td>100</td>\n",
       "    </tr>\n",
       "    <tr>\n",
       "      <th>unique</th>\n",
       "      <td>100</td>\n",
       "      <td>100</td>\n",
       "      <td>100</td>\n",
       "      <td>100</td>\n",
       "      <td>100</td>\n",
       "    </tr>\n",
       "    <tr>\n",
       "      <th>top</th>\n",
       "      <td>Liv-Kirsten Kristoffersen</td>\n",
       "      <td>Haugplassen 50, 0240 Kristiansen</td>\n",
       "      <td>11056838270</td>\n",
       "      <td>3585472443298235</td>\n",
       "      <td>10.113.253.84</td>\n",
       "    </tr>\n",
       "    <tr>\n",
       "      <th>freq</th>\n",
       "      <td>1</td>\n",
       "      <td>1</td>\n",
       "      <td>1</td>\n",
       "      <td>1</td>\n",
       "      <td>1</td>\n",
       "    </tr>\n",
       "  </tbody>\n",
       "</table>\n",
       "</div>"
      ],
      "text/plain": [
       "                             name                           address  \\\n",
       "count                         100                               100   \n",
       "unique                        100                               100   \n",
       "top     Liv-Kirsten Kristoffersen  Haugplassen 50, 0240 Kristiansen   \n",
       "freq                            1                                 1   \n",
       "\n",
       "                ssn credit_card_number           ipv4  \n",
       "count           100                100            100  \n",
       "unique          100                100            100  \n",
       "top     11056838270   3585472443298235  10.113.253.84  \n",
       "freq              1                  1              1  "
      ]
     },
     "execution_count": 194,
     "metadata": {},
     "output_type": "execute_result"
    }
   ],
   "source": [
    "# Loops 100 times and add data to dataframe\n",
    "for i in range(100):\n",
    "    row = [fake.name(), fake.address(), fake.ssn(), fake.credit_card_number(), fake.ipv4()]\n",
    "    df.loc[i] = row\n",
    "\n",
    "# Print to se result\n",
    "df.describe()"
   ]
  },
  {
   "cell_type": "markdown",
   "metadata": {},
   "source": [
    "Using describe() we can see from the count that each row is filled and that they are unique. And we can see from the top row that the data is correct."
   ]
  },
  {
   "cell_type": "markdown",
   "metadata": {},
   "source": [
    "## 2. Anonymization"
   ]
  },
  {
   "cell_type": "markdown",
   "metadata": {},
   "source": [
    "We create an empty array to hold the data.\n",
    "\n",
    "We then loop through the dataframe, appending the data to the array. Making sure to include sensitive data."
   ]
  },
  {
   "cell_type": "code",
   "execution_count": 196,
   "metadata": {},
   "outputs": [
    {
     "name": "stdout",
     "output_type": "stream",
     "text": [
      "Hi, my name is Liv-Kirsten Kristoffersen. I wonder if you deliver to Haugplassen 50, 0240 Kristiansen. My credi card nr is 3585472443298235 and my ssn is 11056838270\n",
      "Hi, my name is Else Kristensen. I wonder if you deliver to Johnsenstykket 48C, 0609 Elisesund. My credi card nr is 3536960962334142 and my ssn is 29034718928\n",
      "Hi, my name is Liv Pettersen. I wonder if you deliver to Isaksenrøa 92, 2059 Halvorsen. My credi card nr is 3592648542034909 and my ssn is 09034740183\n",
      "Hi, my name is Aud Lie. I wonder if you deliver to Birkelandtunet 784, 4361 Nielsen. My credi card nr is 4222978977086 and my ssn is 17118006526\n",
      "Hi, my name is Åse Kristoffersen. I wonder if you deliver to Jakobsenhaugen 68A, 8912 Martesand. My credi card nr is 213191263810442 and my ssn is 27059324352\n",
      "Hi, my name is Grete Andersen. I wonder if you deliver to Hagensvingen 75B, 1124 Jonøy. My credi card nr is 3579361879211135 and my ssn is 24085411213\n",
      "Hi, my name is Karl Madsen. I wonder if you deliver to Pettersentoppen 4, 2859 Christianhavn. My credi card nr is 2271135813315621 and my ssn is 27054043339\n",
      "Hi, my name is Trond Abrahamsen. I wonder if you deliver to Karlsensvingen 38, 6447 Evensen. My credi card nr is 345459206125843 and my ssn is 03033711793\n",
      "Hi, my name is Ingrid Karlsen. I wonder if you deliver to Jakobsenberget 6, 7333 Gundersen. My credi card nr is 4646685420552523 and my ssn is 06017637337\n",
      "Hi, my name is Geir Tangen. I wonder if you deliver to Evensentunet 4, 6630 Thomassen. My credi card nr is 4253599376655 and my ssn is 14015648059\n"
     ]
    }
   ],
   "source": [
    "#Create a empty array\n",
    "textArray = []\n",
    "\n",
    "# Do a for loop, and assign values to name and adress\n",
    "for i, row in df.iterrows():\n",
    "    \n",
    "    name = row[0] \n",
    "    adress = row[1]\n",
    "    ssn = row[2]\n",
    "    cc = row[3]\n",
    "    \n",
    "    #Using f string we can now create a new string with the values, and\n",
    "    #append (add) that string to the text array\n",
    "    textArray.append(f'Hi, my name is {name}. I wonder if you deliver to {adress}. My credi card nr is {cc} and my ssn is {ssn}')\n",
    "    \n",
    "    # Stop the loop after 10 iterations\n",
    "    if i == 9:\n",
    "        break\n",
    "\n",
    "# Print textArray line by line to se result\n",
    "for text in textArray:\n",
    "    print(text)"
   ]
  },
  {
   "cell_type": "markdown",
   "metadata": {},
   "source": [
    "The rest of the this task is skipped because of issues with spacy"
   ]
  }
 ],
 "metadata": {
  "kernelspec": {
   "display_name": "dave3625",
   "language": "python",
   "name": "python3"
  },
  "language_info": {
   "codemirror_mode": {
    "name": "ipython",
    "version": 3
   },
   "file_extension": ".py",
   "mimetype": "text/x-python",
   "name": "python",
   "nbconvert_exporter": "python",
   "pygments_lexer": "ipython3",
   "version": "3.8.18"
  },
  "orig_nbformat": 4
 },
 "nbformat": 4,
 "nbformat_minor": 2
}
